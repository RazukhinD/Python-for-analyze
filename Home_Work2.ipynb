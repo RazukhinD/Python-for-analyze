{
  "metadata": {
    "kernelspec": {
      "name": "python",
      "display_name": "Python (Pyodide)",
      "language": "python"
    },
    "language_info": {
      "codemirror_mode": {
        "name": "python",
        "version": 3
      },
      "file_extension": ".py",
      "mimetype": "text/x-python",
      "name": "python",
      "nbconvert_exporter": "python",
      "pygments_lexer": "ipython3",
      "version": "3.8"
    }
  },
  "nbformat_minor": 5,
  "nbformat": 4,
  "cells": [
    {
      "cell_type": "code",
      "source": "import pandas as pd",
      "metadata": {
        "trusted": true
      },
      "execution_count": 1,
      "outputs": [],
      "id": "ce334565-4883-4808-800f-cb7f8948b3fc"
    },
    {
      "cell_type": "code",
      "source": "df = pd.read_csv('C:\\Users\\user\\Downloads\\kc_house_data.csv')\ndf",
      "metadata": {
        "trusted": true
      },
      "execution_count": 2,
      "outputs": [
        {
          "ename": "<class 'SyntaxError'>",
          "evalue": "(unicode error) 'unicodeescape' codec can't decode bytes in position 2-3: truncated \\UXXXXXXXX escape (<ipython-input-2-54af721b97ce>, line 1)",
          "traceback": [
            "\u001b[0;36m  Cell \u001b[0;32mIn[2], line 1\u001b[0;36m\u001b[0m\n\u001b[0;31m    df = pd.read_csv('C:\\Users\\user\\Downloads\\kc_house_data.csv')\u001b[0m\n\u001b[0m                                                                ^\u001b[0m\n\u001b[0;31mSyntaxError\u001b[0m\u001b[0;31m:\u001b[0m (unicode error) 'unicodeescape' codec can't decode bytes in position 2-3: truncated \\UXXXXXXXX escape\n"
          ],
          "output_type": "error"
        }
      ],
      "id": "4948860b-61fe-4590-8fee-660e2e226fb7"
    },
    {
      "cell_type": "code",
      "source": "df.head()",
      "metadata": {
        "trusted": true
      },
      "execution_count": 3,
      "outputs": [
        {
          "ename": "<class 'NameError'>",
          "evalue": "name 'df' is not defined",
          "traceback": [
            "\u001b[0;31m---------------------------------------------------------------------------\u001b[0m",
            "\u001b[0;31mNameError\u001b[0m                                 Traceback (most recent call last)",
            "Cell \u001b[0;32mIn[3], line 1\u001b[0m\n\u001b[0;32m----> 1\u001b[0m \u001b[43mdf\u001b[49m\u001b[38;5;241m.\u001b[39mhead()\n",
            "\u001b[0;31mNameError\u001b[0m: name 'df' is not defined"
          ],
          "output_type": "error"
        }
      ],
      "id": "5a0cabca-7fc9-402d-a32c-552aa953b504"
    },
    {
      "cell_type": "code",
      "source": "df.info()",
      "metadata": {},
      "execution_count": null,
      "outputs": [],
      "id": "415453cb-8b26-4c1f-827b-f3330ca33c33"
    },
    {
      "cell_type": "code",
      "source": "df.dtypes",
      "metadata": {},
      "execution_count": null,
      "outputs": [],
      "id": "08059dcf-fb63-4739-b975-f96869035c4d"
    },
    {
      "cell_type": "code",
      "source": "df.isnull().sum()",
      "metadata": {},
      "execution_count": null,
      "outputs": [],
      "id": "8384ec45-5eac-46d1-9a1c-17050e809da9"
    },
    {
      "cell_type": "code",
      "source": "df.describe(include=['object'])",
      "metadata": {},
      "execution_count": null,
      "outputs": [],
      "id": "65fa148f-2e8e-4707-8ede-c9390c335c17"
    },
    {
      "cell_type": "code",
      "source": "df['price'].min(), df['price'].max()",
      "metadata": {},
      "execution_count": null,
      "outputs": [],
      "id": "4502f597-9acc-4624-a069-add6d947e57d"
    },
    {
      "cell_type": "code",
      "source": "f\"{round((df['sqft_living'].mean() * 100 / df['sqft_lot'].mean()), 2)} %\"",
      "metadata": {},
      "execution_count": null,
      "outputs": [],
      "id": "fd7dcc96-c53a-4cd6-9a65-7a0e9e20df3d"
    },
    {
      "cell_type": "code",
      "source": "df['floors'].value_counts()",
      "metadata": {},
      "execution_count": null,
      "outputs": [],
      "id": "2979d0f3-fa7d-42fe-9fa2-f609d29c0731"
    },
    {
      "cell_type": "code",
      "source": "df['condition'].value_counts()",
      "metadata": {},
      "execution_count": null,
      "outputs": [],
      "id": "33d99af4-e88c-4a62-9263-af0ab3726186"
    },
    {
      "cell_type": "code",
      "source": "f\"Первый дом - {df['yr_built'].min()}\"",
      "metadata": {},
      "execution_count": null,
      "outputs": [],
      "id": "1c6ba6d1-193d-492e-b090-91c796f6eed2"
    },
    {
      "cell_type": "code",
      "source": "f\"Последний дом - {df['yr_built'].max()}\"",
      "metadata": {},
      "execution_count": null,
      "outputs": [],
      "id": "e872cb65-4f80-4b46-a6ef-341cb28d4c28"
    },
    {
      "cell_type": "code",
      "source": "df[df['bedrooms'] == 2]['price'].mean()",
      "metadata": {},
      "execution_count": null,
      "outputs": [],
      "id": "1b2985cd-c1f6-4bff-a343-67d7fb599595"
    },
    {
      "cell_type": "code",
      "source": "df[df['price'] > 600000]['sqft_lot'].mean()",
      "metadata": {},
      "execution_count": null,
      "outputs": [],
      "id": "e1b852ce-1b4a-47d5-b240-a086a54cf7ac"
    },
    {
      "cell_type": "code",
      "source": "df[df['yr_renovated'].astype('bool')].shape[0]",
      "metadata": {},
      "execution_count": null,
      "outputs": [],
      "id": "69018b51-3131-4740-9e45-48e19e225df4"
    },
    {
      "cell_type": "code",
      "source": "df[df['yr_renovated'] != 0].shape[0]",
      "metadata": {},
      "execution_count": null,
      "outputs": [],
      "id": "59438154-5003-4395-a47d-3cbfac305b4c"
    },
    {
      "cell_type": "code",
      "source": "df[df['grade'] > 10]['price'].mean() - df[df['grade'] < 4]['price'].mean()",
      "metadata": {},
      "execution_count": null,
      "outputs": [],
      "id": "2fe4c952-c7f7-4655-974d-a5b7d8ba51de"
    },
    {
      "cell_type": "code",
      "source": "df[(df['waterfront'] != 0) & (df['bathrooms'] >= 3) & (df['sqft_basement'] != 0)].shape[0]",
      "metadata": {},
      "execution_count": null,
      "outputs": [],
      "id": "87acb1ed-ad45-499e-8a68-af9f85d627a9"
    },
    {
      "cell_type": "code",
      "source": "choiсe = df[((df['view'] == 4) | (df['waterfront'] != 0)) & (df['yr_built'] >= 1980) & (df['condition'] == 5)]['price']\nchoiсe.min(), choiсe.max()",
      "metadata": {},
      "execution_count": null,
      "outputs": [],
      "id": "38510d4c-062f-43a9-aede-bf6b21664fe0"
    },
    {
      "cell_type": "code",
      "source": "df[(df['sqft_basement'] == 0) & (df['floors'] == 2) & (df['price'] < 150000)]['condition'].mean()",
      "metadata": {},
      "execution_count": null,
      "outputs": [],
      "id": "da63c95d-b141-4e9d-8422-3eb4a1c97a24"
    }
  ]
}